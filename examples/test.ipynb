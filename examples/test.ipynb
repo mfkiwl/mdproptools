{
 "cells": [
  {
   "cell_type": "markdown",
   "source": [
    "# Import statements\n"
   ],
   "metadata": {
    "collapsed": false
   },
   "id": "7ef3b13988ebd95b"
  },
  {
   "cell_type": "code",
   "outputs": [],
   "source": [
    "import os\n",
    "\n",
    "from pymatgen.core.structure import Molecule\n",
    "\n",
    "from mdproptools.structural.cluster_analysis import (\n",
    "    get_clusters,\n",
    "    get_unique_configurations,\n",
    ")"
   ],
   "metadata": {
    "collapsed": false,
    "ExecuteTime": {
     "end_time": "2024-01-23T20:08:14.358492Z",
     "start_time": "2024-01-23T20:08:14.357256Z"
    }
   },
   "id": "b5fd67ece792ebce",
   "execution_count": 5
  },
  {
   "cell_type": "markdown",
   "source": [
    "# System overview \n",
    "\n",
    "The system we will use for cluster analysis contains 0.5 M Mg(TFSI)2 in DME. In this notebook, we will be calculating the radial distribution function (RDF) and the coordination number of the Mg2+ ion with other atom types in the system. In addition, we will be extracting the first solvation shell around the cation and processing these clusters to obtain the top unique configurations that make up around 80% of the Mg2+ solvation environment in this system. \n"
   ],
   "metadata": {
    "collapsed": false
   },
   "id": "fcb0579547b8c8c9"
  },
  {
   "cell_type": "markdown",
   "source": [
    "# Initialization\n"
   ],
   "metadata": {
    "collapsed": false
   },
   "id": "1943e9c7180c3822"
  },
  {
   "cell_type": "code",
   "outputs": [],
   "source": [
    "dump_files = os.path.join(\"../data/structural/Mg_2TFSI_G1.lammpstrj.*\")\n",
    "\n",
    "# Create pymatgen Molecule objects for each molecule in the system and \n",
    "#place them in a list in the same order they appear in the LAMMPS dump file \n",
    "dme = Molecule.from_file(\"../data/structural/dme.pdb\")\n",
    "tfsi = Molecule.from_file(\"../data/structural/tfsi.pdb\")\n",
    "mg = Molecule.from_file(\"../data/structural/mg.pdb\") \n",
    "molecules = [dme, tfsi, mg]\n",
    "\n",
    "# Define the names of the molecules in the system and the atom types that \n",
    "# will be used to identify the coordination environment of the Mg2+ ion when \n",
    "# extracting the first solvation shell \n",
    "mol_names = [\"dme\", \"tfsi\", \"mg\"]\n",
    "type_coord_atoms = [\"O\", \"N\", \"Mg\"]\n",
    "\n",
    "# Since the dump files do not contain the element property, we need to specify\n",
    "# the elements in the system in the order they appear in the LAMMPS dump file \n",
    "# so that the correct atom types can be assigned to each atom when extracting \n",
    "# the first solvation shell \n",
    "elements = [\"O\", \"C\", \"H\", \"N\", \"S\", \"O\", \"F\", \"Mg\"]\n",
    "\n",
    "# Specify the atom type of the atom of interest (Mg2+ ion) and the cutoff radius \n",
    "# to be used when extracting the first solvation shell \n",
    "atom_type = 8\n",
    "r_cut = 2.3\n",
    "max_force = 0.75\n",
    "\n",
    "# Specify the number of molecules in the system and the number of atoms per \n",
    "# molecule in the same order they appear in the LAMMPS dump file \n",
    "num_mols = [591, 66, 33]\n",
    "num_atoms_per_mol = [16, 15, 1]\n",
    "\n",
    "# Specify whether the full trajectory should be used for cluster analysis \n",
    "# or just a single frame \n",
    "full_trajectory = True\n",
    "frame = None # If full_trajectory is False, specify the frame number to be used for cluster analysis \n",
    "\n",
    "# We will be using the default atom types assigned by LAMMPS for this system, \n",
    "# so we will not be altering the atom types, atom_type 8 corresponds to the Mg2+ ion \n",
    "alter_atom_types = False\n",
    "\n",
    "# All files will be saved in working_dir, which defaults to the current \n",
    "# working directory if not specified \n",
    "working_dir = None"
   ],
   "metadata": {
    "collapsed": false,
    "ExecuteTime": {
     "end_time": "2024-01-23T20:08:17.056620Z",
     "start_time": "2024-01-23T20:08:17.025908Z"
    }
   },
   "id": "d2ecef94918e9285",
   "execution_count": 6
  },
  {
   "cell_type": "markdown",
   "source": [
    "# RDF analysis\n"
   ],
   "metadata": {
    "collapsed": false
   },
   "id": "730f708dc56cb799"
  },
  {
   "cell_type": "markdown",
   "source": [
    "# Coordination number analysis\n"
   ],
   "metadata": {
    "collapsed": false
   },
   "id": "3ef13b0eacc402c3"
  },
  {
   "cell_type": "markdown",
   "source": [
    "# Coordination number analysis\n"
   ],
   "metadata": {
    "collapsed": false
   },
   "id": "92f4c55246c0f19e"
  },
  {
   "cell_type": "markdown",
   "source": [
    "## Get clusters\n"
   ],
   "metadata": {
    "collapsed": false
   },
   "id": "ffc1d60be40864dc"
  },
  {
   "cell_type": "code",
   "outputs": [
    {
     "name": "stderr",
     "output_type": "stream",
     "text": [
      "Processing dump file: 100%|██████████| 5/5 [00:05<00:00,  1.01s/it]\n"
     ]
    }
   ],
   "source": [
    "num_clusters = get_clusters(\n",
    "    filename=dump_files,\n",
    "    atom_type=atom_type,\n",
    "    r_cut=r_cut,\n",
    "    num_mols=num_mols,\n",
    "    num_atoms_per_mol=num_atoms_per_mol,\n",
    "    full_trajectory=full_trajectory,\n",
    "    frame=frame,\n",
    "    elements=elements,\n",
    "    alter_atom_types=alter_atom_types,\n",
    "    max_force=max_force,\n",
    "    working_dir=working_dir,\n",
    ")"
   ],
   "metadata": {
    "collapsed": false,
    "ExecuteTime": {
     "end_time": "2024-01-23T20:08:28.605136Z",
     "start_time": "2024-01-23T20:08:23.136004Z"
    }
   },
   "id": "56368a09c304e6c6",
   "execution_count": 7
  },
  {
   "cell_type": "markdown",
   "source": [
    "## Get unique configurations"
   ],
   "metadata": {
    "collapsed": false
   },
   "id": "5b93fbd11480b949"
  },
  {
   "cell_type": "code",
   "outputs": [
    {
     "name": "stderr",
     "output_type": "stream",
     "text": [
      "Processing cluster files: 100%|██████████| 165/165 [00:01<00:00, 140.18it/s]\n"
     ]
    }
   ],
   "source": [
    "clusters_df, conf_df = get_unique_configurations(\n",
    "    cluster_pattern=\"Cluster_*.xyz\",\n",
    "    r_cut=r_cut,\n",
    "    molecules=molecules,\n",
    "    type_coord_atoms=type_coord_atoms,\n",
    "    working_dir=working_dir,\n",
    "    find_top=True,\n",
    "    perc=None,\n",
    "    cum_perc=80,\n",
    "    mol_names=mol_names,\n",
    "    zip=True,\n",
    ")"
   ],
   "metadata": {
    "collapsed": false,
    "ExecuteTime": {
     "end_time": "2024-01-23T20:08:32.673936Z",
     "start_time": "2024-01-23T20:08:31.344243Z"
    }
   },
   "id": "8c0bc1831a980d03",
   "execution_count": 8
  },
  {
   "cell_type": "code",
   "outputs": [],
   "source": [],
   "metadata": {
    "collapsed": false
   },
   "id": "3850ad05d6bc903f"
  }
 ],
 "metadata": {
  "kernelspec": {
   "display_name": "Python 3",
   "language": "python",
   "name": "python3"
  },
  "language_info": {
   "codemirror_mode": {
    "name": "ipython",
    "version": 2
   },
   "file_extension": ".py",
   "mimetype": "text/x-python",
   "name": "python",
   "nbconvert_exporter": "python",
   "pygments_lexer": "ipython2",
   "version": "2.7.6"
  }
 },
 "nbformat": 4,
 "nbformat_minor": 5
}
