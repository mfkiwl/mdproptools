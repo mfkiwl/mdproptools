{
 "cells": [
  {
   "cell_type": "code",
   "outputs": [],
   "source": [
    "import os\n",
    "\n",
    "from pymatgen.core.structure import Molecule\n",
    "\n",
    "from mdproptools.structural.cluster_analysis import (\n",
    "    get_clusters,\n",
    "    get_unique_configurations,\n",
    ")"
   ],
   "metadata": {
    "collapsed": false,
    "ExecuteTime": {
     "end_time": "2024-01-23T16:45:02.717249Z",
     "start_time": "2024-01-23T16:45:02.712529Z"
    }
   },
   "id": "44d45a405eed631b",
   "execution_count": 5
  },
  {
   "cell_type": "markdown",
   "source": [
    "# System overview \n",
    "\n",
    "The system we will use for cluster analysis contains 0.5 M Mg(TFSI)2 in DME. In this notebook, we will be calculating the radial distribution function (RDF) and the coordination number of the Mg2+ ion with other atom types in the system. In addition, we will be extracting the first solvation shell around the cation and processing these clusters to obtain the top unique configurations that make up around 80% of the Mg2+ solvation environment in this system. "
   ],
   "metadata": {
    "collapsed": false
   },
   "id": "bb819296401dffc"
  },
  {
   "cell_type": "markdown",
   "source": [
    "# Initialization"
   ],
   "metadata": {
    "collapsed": false
   },
   "id": "c971672b8eee1193"
  },
  {
   "cell_type": "code",
   "outputs": [],
   "source": [
    "dump_files = os.path.join(\"../data/structural/Mg_2TFSI_G1.lammpstrj.*\")\n",
    "\n",
    "# Create pymatgen Molecule objects for each molecule in the system and place them in a list in the same order they appear in the LAMMPS dump file \n",
    "dme = Molecule.from_file(\"../data/structural/dme.pdb\")\n",
    "tfsi = Molecule.from_file(\"../data/structural/tfsi.pdb\")\n",
    "mg = Molecule.from_file(\"../data/structural/mg.pdb\") \n",
    "molecules = [dme, tfsi, mg]\n",
    "\n",
    "# Define the names of the molecules in the system and the atom types that will be used to identify the coordination environment of the Mg2+ ion when extracting the first solvation shell \n",
    "mol_names = [\"dme\", \"tfsi\", \"mg\"]\n",
    "type_coord_atoms = [\"O\", \"N\", \"Mg\"]\n",
    "\n",
    "# Since the dump files do not contain the element property, we need to specify the elements in the system in the order they appear in the LAMMPS dump file so that the correct atom types can be assigned to each atom when extracting the first solvation shell \n",
    "elements = [\"O\", \"C\", \"H\", \"N\", \"S\", \"O\", \"F\", \"Mg\"]\n",
    "\n",
    "# Specify the atom type of the atom of interest (Mg2+ ion) and the cutoff radius to be used when extracting the first solvation shell \n",
    "atom_type = 8\n",
    "r_cut = 2.3\n",
    "max_force = 0.75\n",
    "\n",
    "# Specify the number of molecules in the system and the number of atoms per molecule in the same order they appear in the LAMMPS dump file \n",
    "num_mols = [591, 66, 33]\n",
    "num_atoms_per_mol = [16, 15, 1]\n",
    "\n",
    "# Specify whether the full trajectory should be used for cluster analysis or just a single frame \n",
    "full_trajectory = True\n",
    "frame = None # If full_trajectory is False, specify the frame number to be used for cluster analysis \n",
    "\n",
    "# We will be using the default atom types assigned by LAMMPS for this system, so we will not be altering the atom types, atom_type 8 corresponds to the Mg2+ ion \n",
    "alter_atom_types = False\n",
    "\n",
    "# All files will be saved in working_dir, which defaults to the current working directory if not specified \n",
    "working_dir = None"
   ],
   "metadata": {
    "collapsed": false,
    "ExecuteTime": {
     "end_time": "2024-01-23T16:45:22.342385Z",
     "start_time": "2024-01-23T16:45:22.313525Z"
    }
   },
   "id": "55cda802468c6fef",
   "execution_count": 7
  },
  {
   "cell_type": "markdown",
   "source": [
    "# RDF analysis"
   ],
   "metadata": {
    "collapsed": false
   },
   "id": "4825c6e782acb345"
  },
  {
   "cell_type": "markdown",
   "source": [
    "# Coordination number analysis"
   ],
   "metadata": {
    "collapsed": false
   },
   "id": "db8bcdd97438ed57"
  },
  {
   "cell_type": "markdown",
   "source": [
    "# Cluster analysis"
   ],
   "metadata": {
    "collapsed": false
   },
   "id": "b3e76385d3304cb1"
  },
  {
   "cell_type": "markdown",
   "source": [
    "## Get clusters"
   ],
   "metadata": {
    "collapsed": false
   },
   "id": "84ba2abc72105822"
  },
  {
   "cell_type": "code",
   "outputs": [
    {
     "name": "stderr",
     "output_type": "stream",
     "text": [
      "Processing dump file: 100%|██████████| 5/5 [00:04<00:00,  1.01it/s]\n"
     ]
    }
   ],
   "source": [
    "num_clusters = get_clusters(\n",
    "    filename=dump_files,\n",
    "    atom_type=atom_type,\n",
    "    r_cut=r_cut,\n",
    "    num_mols=num_mols,\n",
    "    num_atoms_per_mol=num_atoms_per_mol,\n",
    "    full_trajectory=full_trajectory,\n",
    "    frame=frame,\n",
    "    elements=elements,\n",
    "    alter_atom_types=alter_atom_types,\n",
    "    max_force=max_force,\n",
    "    working_dir=working_dir,\n",
    ")"
   ],
   "metadata": {
    "collapsed": false,
    "ExecuteTime": {
     "end_time": "2024-01-23T16:40:33.897707Z",
     "start_time": "2024-01-23T16:40:28.579744Z"
    }
   },
   "id": "3bcbc1e15467b6ee",
   "execution_count": 3
  },
  {
   "cell_type": "markdown",
   "source": [
    "## Get unique configurations"
   ],
   "metadata": {
    "collapsed": false
   },
   "id": "cdc519336f18d2a"
  },
  {
   "cell_type": "code",
   "outputs": [
    {
     "name": "stderr",
     "output_type": "stream",
     "text": [
      "Processing cluster files: 100%|██████████| 165/165 [00:01<00:00, 128.01it/s]\n"
     ]
    }
   ],
   "source": [
    "clusters_df, conf_df = get_unique_configurations(\n",
    "    cluster_pattern=\"Cluster_*.xyz\",\n",
    "    r_cut=r_cut,\n",
    "    molecules=molecules,\n",
    "    type_coord_atoms=type_coord_atoms,\n",
    "    working_dir=working_dir,\n",
    "    find_top=True,\n",
    "    perc=None,\n",
    "    cum_perc=80,\n",
    "    mol_names=mol_names,\n",
    "    zip=True,\n",
    ")"
   ],
   "metadata": {
    "collapsed": false,
    "ExecuteTime": {
     "end_time": "2024-01-23T16:45:27.958035Z",
     "start_time": "2024-01-23T16:45:26.484084Z"
    }
   },
   "id": "eb3341588921dcdf",
   "execution_count": 8
  }
 ],
 "metadata": {
  "kernelspec": {
   "display_name": "Python 3",
   "language": "python",
   "name": "python3"
  },
  "language_info": {
   "codemirror_mode": {
    "name": "ipython",
    "version": 2
   },
   "file_extension": ".py",
   "mimetype": "text/x-python",
   "name": "python",
   "nbconvert_exporter": "python",
   "pygments_lexer": "ipython2",
   "version": "2.7.6"
  }
 },
 "nbformat": 4,
 "nbformat_minor": 5
}
