{
 "cells": [
  {
   "cell_type": "markdown",
   "source": [
    "# Import statements"
   ],
   "metadata": {
    "collapsed": false
   },
   "id": "6352cd68f44c5c62"
  },
  {
   "cell_type": "code",
   "execution_count": 1,
   "id": "44d45a405eed631b",
   "metadata": {
    "ExecuteTime": {
     "end_time": "2024-01-23T19:37:49.743443Z",
     "start_time": "2024-01-23T19:37:29.384245Z"
    }
   },
   "outputs": [],
   "source": [
    "import os\n",
    "\n",
    "from pymatgen.core.structure import Molecule\n",
    "\n",
    "from mdproptools.structural.cluster_analysis import (\n",
    "    get_clusters,\n",
    "    get_unique_configurations,\n",
    ")"
   ]
  },
  {
   "cell_type": "markdown",
   "id": "bb819296401dffc",
   "metadata": {},
   "source": [
    "# System overview \n",
    "\n",
    "The system we will use for cluster analysis contains 0.5 M Mg(TFSI)2 in DME. In this notebook, we will be calculating the radial distribution function (RDF) and the coordination number of the Mg2+ ion with other atom types in the system. In addition, we will be extracting the first solvation shell around the cation and processing these clusters to obtain the top unique configurations that make up around 80% of the Mg2+ solvation environment in this system. "
   ]
  },
  {
   "cell_type": "markdown",
   "id": "c971672b8eee1193",
   "metadata": {},
   "source": [
    "# Initialization"
   ]
  },
  {
   "cell_type": "code",
   "outputs": [],
   "source": [
    "dump_files = os.path.join(\"../data/structural/Mg_2TFSI_G1.lammpstrj.*\")\n",
    "\n",
    "# Create pymatgen Molecule objects for each molecule in the system and \n",
    "#place them in a list in the same order they appear in the LAMMPS dump file \n",
    "dme = Molecule.from_file(\"../data/structural/dme.pdb\")\n",
    "tfsi = Molecule.from_file(\"../data/structural/tfsi.pdb\")\n",
    "mg = Molecule.from_file(\"../data/structural/mg.pdb\") \n",
    "molecules = [dme, tfsi, mg]\n",
    "\n",
    "# Define the names of the molecules in the system and the atom types that \n",
    "# will be used to identify the coordination environment of the Mg2+ ion when \n",
    "# extracting the first solvation shell \n",
    "mol_names = [\"dme\", \"tfsi\", \"mg\"]\n",
    "type_coord_atoms = [\"O\", \"N\", \"Mg\"]\n",
    "\n",
    "# Since the dump files do not contain the element property, we need to specify\n",
    "# the elements in the system in the order they appear in the LAMMPS dump file \n",
    "# so that the correct atom types can be assigned to each atom when extracting \n",
    "# the first solvation shell \n",
    "elements = [\"O\", \"C\", \"H\", \"N\", \"S\", \"O\", \"F\", \"Mg\"]\n",
    "\n",
    "# Specify the atom type of the atom of interest (Mg2+ ion) and the cutoff radius \n",
    "# to be used when extracting the first solvation shell \n",
    "atom_type = 8\n",
    "r_cut = 2.3\n",
    "max_force = 0.75\n",
    "\n",
    "# Specify the number of molecules in the system and the number of atoms per \n",
    "# molecule in the same order they appear in the LAMMPS dump file \n",
    "num_mols = [591, 66, 33]\n",
    "num_atoms_per_mol = [16, 15, 1]\n",
    "\n",
    "# Specify whether the full trajectory should be used for cluster analysis \n",
    "# or just a single frame \n",
    "full_trajectory = True\n",
    "frame = None # If full_trajectory is False, specify the frame number to be used for cluster analysis \n",
    "\n",
    "# We will be using the default atom types assigned by LAMMPS for this system, \n",
    "# so we will not be altering the atom types, atom_type 8 corresponds to the Mg2+ ion \n",
    "alter_atom_types = False\n",
    "\n",
    "# All files will be saved in working_dir, which defaults to the current \n",
    "# working directory if not specified \n",
    "working_dir = None"
   ],
   "metadata": {
    "collapsed": false,
    "ExecuteTime": {
     "end_time": "2024-01-23T19:37:54.499597Z",
     "start_time": "2024-01-23T19:37:54.405666Z"
    }
   },
   "id": "55cda802468c6fef",
   "execution_count": 2
  },
  {
   "cell_type": "markdown",
   "id": "4825c6e782acb345",
   "metadata": {},
   "source": [
    "# RDF analysis"
   ]
  },
  {
   "cell_type": "markdown",
   "id": "db8bcdd97438ed57",
   "metadata": {},
   "source": [
    "# Coordination number analysis"
   ]
  },
  {
   "cell_type": "markdown",
   "id": "b3e76385d3304cb1",
   "metadata": {},
   "source": [
    "# Cluster analysis"
   ]
  },
  {
   "cell_type": "markdown",
   "id": "84ba2abc72105822",
   "metadata": {},
   "source": [
    "## Get clusters"
   ]
  },
  {
   "cell_type": "code",
   "execution_count": 3,
   "id": "3bcbc1e15467b6ee",
   "metadata": {
    "ExecuteTime": {
     "end_time": "2024-01-23T19:38:05.062096Z",
     "start_time": "2024-01-23T19:37:58.558487Z"
    }
   },
   "outputs": [
    {
     "name": "stderr",
     "output_type": "stream",
     "text": [
      "Processing dump file: 100%|██████████| 5/5 [00:06<00:00,  1.22s/it]\n"
     ]
    }
   ],
   "source": [
    "num_clusters = get_clusters(\n",
    "    filename=dump_files,\n",
    "    atom_type=atom_type,\n",
    "    r_cut=r_cut,\n",
    "    num_mols=num_mols,\n",
    "    num_atoms_per_mol=num_atoms_per_mol,\n",
    "    full_trajectory=full_trajectory,\n",
    "    frame=frame,\n",
    "    elements=elements,\n",
    "    alter_atom_types=alter_atom_types,\n",
    "    max_force=max_force,\n",
    "    working_dir=working_dir,\n",
    ")"
   ]
  },
  {
   "cell_type": "markdown",
   "id": "cdc519336f18d2a",
   "metadata": {},
   "source": [
    "## Get unique configurations"
   ]
  },
  {
   "cell_type": "code",
   "execution_count": 4,
   "id": "eb3341588921dcdf",
   "metadata": {
    "ExecuteTime": {
     "end_time": "2024-01-23T19:38:08.506801Z",
     "start_time": "2024-01-23T19:38:07.156946Z"
    }
   },
   "outputs": [
    {
     "name": "stderr",
     "output_type": "stream",
     "text": [
      "Processing cluster files: 100%|██████████| 165/165 [00:01<00:00, 137.01it/s]\n"
     ]
    }
   ],
   "source": [
    "clusters_df, conf_df = get_unique_configurations(\n",
    "    cluster_pattern=\"Cluster_*.xyz\",\n",
    "    r_cut=r_cut,\n",
    "    molecules=molecules,\n",
    "    type_coord_atoms=type_coord_atoms,\n",
    "    working_dir=working_dir,\n",
    "    find_top=True,\n",
    "    perc=None,\n",
    "    cum_perc=80,\n",
    "    mol_names=mol_names,\n",
    "    zip=True,\n",
    ")"
   ]
  },
  {
   "cell_type": "code",
   "outputs": [],
   "source": [],
   "metadata": {
    "collapsed": false
   },
   "id": "73025d1df1692b63"
  }
 ],
 "metadata": {
  "kernelspec": {
   "display_name": "Python 3 (ipykernel)",
   "language": "python",
   "name": "python3"
  },
  "language_info": {
   "codemirror_mode": {
    "name": "ipython",
    "version": 3
   },
   "file_extension": ".py",
   "mimetype": "text/x-python",
   "name": "python",
   "nbconvert_exporter": "python",
   "pygments_lexer": "ipython3",
   "version": "3.7.12"
  }
 },
 "nbformat": 4,
 "nbformat_minor": 5
}
